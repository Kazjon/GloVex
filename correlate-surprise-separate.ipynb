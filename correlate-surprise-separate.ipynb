{
 "cells": [
  {
   "cell_type": "markdown",
   "metadata": {
    "collapsed": true
   },
   "source": [
    "Modes of correlation: Model (oracle, personal), Granularity (recipe level, user level, recipe flat, user flat, all recipes for all users), Surprise (95th percentile, max), Method of correlation (spearman, pearson)"
   ]
  },
  {
   "cell_type": "markdown",
   "metadata": {
    "collapsed": true
   },
   "source": [
    "Libraries"
   ]
  },
  {
   "cell_type": "code",
   "execution_count": 1,
   "metadata": {},
   "outputs": [],
   "source": [
    "import os, pickle, numpy as np\n",
    "from GloVex.evaluate_personalised import survey_reader\n",
    "from scipy.stats import pearsonr, spearmanr\n",
    "cwd = os.getcwd()"
   ]
  },
  {
   "cell_type": "markdown",
   "metadata": {},
   "source": [
    "Helper functions"
   ]
  },
  {
   "cell_type": "code",
   "execution_count": 2,
   "metadata": {},
   "outputs": [],
   "source": [
    "def averageing_fn(surp_list):\n",
    "\t_avg_ = []\n",
    "\tfor each_ in surp_list:\n",
    "\t\t_avg_.append(reduce(lambda x, y: x + y, each_) / len(each_))\n",
    "\treturn _avg_"
   ]
  },
  {
   "cell_type": "markdown",
   "metadata": {},
   "source": [
    "Get the surprises of the users in the survey"
   ]
  },
  {
   "cell_type": "code",
   "execution_count": 3,
   "metadata": {},
   "outputs": [
    {
     "name": "stderr",
     "output_type": "stream",
     "text": [
      "GloVex/evaluate_personalised.py:313: SettingWithCopyWarning: \nA value is trying to be set on a copy of a slice from a DataFrame.\nTry using .loc[row_indexer,col_indexer] = value instead\n\nSee the caveats in the documentation: http://pandas.pydata.org/pandas-docs/stable/indexing.html#indexing-view-versus-copy\n  users_df['col_list'] = (np.array(users_df.values.tolist()) / scale).tolist()\n"
     ]
    }
   ],
   "source": [
    "survey_reader_obj = survey_reader()\n",
    "food_cuisine_survey_fn = cwd + '/personalized-surprise/Food and Cuisine Preferences Survey (Responses) - Form Responses 2'\n",
    "fam_cat_sorted = ['mexican', 'chinese', 'modern', 'greek', 'indian', 'thai', 'italian']\n",
    "users_fam_dir, familiar_cols, users_cuisine_pref, preference_cols, \\\n",
    "users_knowledge_ingredient, knowledge_ingredient_cols, users_knowledge_cuisine, cuisine_knowledge_cols, \\\n",
    "users_surp_ratings, surprise_rating_cols, users_surp_pref, surprise_preference_cols = \\\n",
    "\tsurvey_reader_obj.read_survey(food_cuisine_survey_fn, fam_cat_sorted)"
   ]
  },
  {
   "cell_type": "markdown",
   "metadata": {},
   "source": [
    "Prepare array of familiarity scores from the dict"
   ]
  },
  {
   "cell_type": "code",
   "execution_count": 4,
   "metadata": {},
   "outputs": [],
   "source": [
    "# Take the familiarity scores from the dict into arrays\n",
    "user_fam_arr = []\n",
    "for each_user in sorted(users_fam_dir):\n",
    "\tuser_fam_arr.append(users_fam_dir[each_user])\n",
    "# Take the surprise scores from the dict into arrays\n",
    "users_surp_ratings_arr = []\n",
    "for each_user in sorted(users_surp_ratings):\n",
    "\tusers_surp_ratings_arr.append(users_surp_ratings[each_user])"
   ]
  },
  {
   "cell_type": "markdown",
   "metadata": {},
   "source": [
    "Transpose for recipe level comparison"
   ]
  },
  {
   "cell_type": "code",
   "execution_count": 5,
   "metadata": {},
   "outputs": [],
   "source": [
    "users_surp_ratings_userlvl = users_surp_ratings_arr\n",
    "users_surp_ratings_recipelvl = np.transpose(users_surp_ratings_arr).tolist()"
   ]
  },
  {
   "cell_type": "markdown",
   "metadata": {},
   "source": [
    "Flatten the arrays in both dimenssions"
   ]
  },
  {
   "cell_type": "code",
   "execution_count": 6,
   "metadata": {},
   "outputs": [],
   "source": [
    "users_surp_ratings_user_flat = [item for sublist in users_surp_ratings_userlvl for item in sublist]\n",
    "users_surp_ratings_recipe_flat = [item for sublist in users_surp_ratings_recipelvl for item in sublist]"
   ]
  },
  {
   "cell_type": "markdown",
   "metadata": {},
   "source": [
    "Divide the users into foodies and novices using the median of sum of familiarities"
   ]
  },
  {
   "cell_type": "code",
   "execution_count": 7,
   "metadata": {},
   "outputs": [],
   "source": [
    "# Array holding all of the sums\n",
    "sum_arr = []\n",
    "# Iterate over the users' familiarities\n",
    "for user_idx in sorted(users_fam_dir.keys()):\n",
    "\t# Get the familiarity scores\n",
    "\teach_fam = users_fam_dir[user_idx]\n",
    "\t# Calculate the sum of familiarity for each user\n",
    "\tsum_fam = sum(each_fam)\n",
    "\t# Append the sum of familiarity of each user to the sum array\n",
    "\tsum_arr.append(sum_fam)\n",
    "median_fam = np.median(sum_arr)\n",
    "# Split the users into foodeis and novices using the median\n",
    "foodie_fam_dict = {}\n",
    "foodie_surp_ratings_dict = {}\n",
    "novice_fam_dict = {}\n",
    "novice_surp_ratings_dict = {}\n",
    "# Iterate over the users' familiarities\n",
    "for user_idx in sorted(users_fam_dir.keys()):\n",
    "\t# Get the familiarity and surprise scores\n",
    "\teach_fam = users_fam_dir[user_idx]\n",
    "\teach_surp = users_surp_ratings[user_idx]\n",
    "\t# Calculate the sum of familiarity for each user\n",
    "\tsum_fam = sum(each_fam)\n",
    "\tif sum_fam > median_fam:\n",
    "\t\t# print 'above median', each_fam\n",
    "\t\tfoodie_fam_dict[user_idx] = each_fam\n",
    "\t\tfoodie_surp_ratings_dict[user_idx] = each_surp\n",
    "\telse:\n",
    "\t\t# print 'below median', each_fam\n",
    "\t\tnovice_fam_dict[user_idx] = each_fam\n",
    "\t\tnovice_surp_ratings_dict[user_idx] = each_surp\n",
    "# List the foodies and novices in two separate lists\n",
    "foodie_users = foodie_fam_dict.keys()\n",
    "novice_users = novice_fam_dict.keys()"
   ]
  },
  {
   "cell_type": "markdown",
   "metadata": {},
   "source": [
    "Get the personal surprise estimates by the model"
   ]
  },
  {
   "cell_type": "code",
   "execution_count": 8,
   "metadata": {},
   "outputs": [],
   "source": [
    "user_suprise_estimates_pickle_fn = cwd + '/GloVex/results/recipes_self_reported/user_suprise_estimates.pickle'\n",
    "# user_suprise_estimates_pickle_fn = cwd + '/GloVex/results/recipes_knowledge/user_suprise_estimates.pickle'\n",
    "# user_suprise_estimates_pickle_fn = cwd + '/GloVex/results/recipes_averaged/user_suprise_estimates.pickle'\n",
    "user_suprise_estimates_dict = pickle.load(open(user_suprise_estimates_pickle_fn,'rb'))"
   ]
  },
  {
   "cell_type": "markdown",
   "metadata": {},
   "source": [
    "Get the 90th, 95th percentils and max surprise estimates"
   ]
  },
  {
   "cell_type": "code",
   "execution_count": 9,
   "metadata": {},
   "outputs": [],
   "source": [
    "# Initialize surprise estimates for 95th percentile and max score\n",
    "personalized_surp_estimates_90perc = []\n",
    "personalized_surp_estimates_90perc_dict = {}\n",
    "personalized_surp_estimates_95perc = []\n",
    "personalized_surp_estimates_95perc_dict = {}\n",
    "personalized_surp_estimates_max = []\n",
    "personalized_surp_estimates_max_dict = {}\n",
    "# Iterate over the user surprise estimeates dict\n",
    "for each_user in sorted(user_suprise_estimates_dict.keys()):\n",
    "\t# print 'each_user', each_user\n",
    "\t# Initialize the inner arrays for 95th percentile and max score\n",
    "\tusers_surp_estimates_90perc = []\n",
    "\tusers_surp_estimates_95perc = []\n",
    "\tusers_surp_estimates_max = []\n",
    "\t# Iterate over the surprises for each user's surprise estimates\n",
    "\tfor each_recipe in sorted(user_suprise_estimates_dict[each_user]['recipes_surp']):\n",
    "\t\t# print 'each_recipe', each_recipe\n",
    "\t\t# Get the 90th and 95th percentiles\n",
    "\t\tuser_suprise_90th_percentile = user_suprise_estimates_dict[each_user]['recipes_surp'][each_recipe]['90th_percentile']\n",
    "\t\tuser_suprise_95th_percentile = user_suprise_estimates_dict[each_user]['recipes_surp'][each_recipe]['95th_percentile']\n",
    "\t\t# Get the max\n",
    "\t\tuser_suprise_max = max([each_ingr_comb[2] \n",
    "\t\t\tfor each_ingr_comb in user_suprise_estimates_dict[each_user]['recipes_surp'][each_recipe]['surprise_cuisine']])\n",
    "\t\t# Append the 90th and 95th percentile and maxfor the surprise estimates\n",
    "\t\tusers_surp_estimates_90perc.append(user_suprise_90th_percentile)\n",
    "\t\tusers_surp_estimates_95perc.append(user_suprise_95th_percentile)\n",
    "\t\tusers_surp_estimates_max.append(user_suprise_max)\n",
    "\t# Append the user's surprise estimates to the personalized main 2D array (90th and 95th percentile and max score)\n",
    "\tpersonalized_surp_estimates_90perc.append(users_surp_estimates_90perc)\n",
    "\tpersonalized_surp_estimates_95perc.append(users_surp_estimates_95perc)\n",
    "\tpersonalized_surp_estimates_max.append(users_surp_estimates_max)\n",
    "\t# Add the user's surprise estimates to the dict\n",
    "\tpersonalized_surp_estimates_90perc_dict[each_user] = users_surp_estimates_90perc\n",
    "\tpersonalized_surp_estimates_95perc_dict[each_user] = users_surp_estimates_95perc\n",
    "\tpersonalized_surp_estimates_max_dict[each_user] = users_surp_estimates_max"
   ]
  },
  {
   "cell_type": "markdown",
   "metadata": {},
   "source": [
    "Transpose for recipe level comparison"
   ]
  },
  {
   "cell_type": "code",
   "execution_count": 10,
   "metadata": {},
   "outputs": [],
   "source": [
    "personalized_surp_estimates_recipelvl_90perc = np.transpose(personalized_surp_estimates_90perc).tolist()\n",
    "personalized_surp_estimates_recipelvl_95perc = np.transpose(personalized_surp_estimates_95perc).tolist()\n",
    "personalized_surp_estimates_recipelvl_max = np.transpose(personalized_surp_estimates_max).tolist()"
   ]
  },
  {
   "cell_type": "markdown",
   "metadata": {},
   "source": [
    "Flatten the arrays in both dimnessions"
   ]
  },
  {
   "cell_type": "code",
   "execution_count": 11,
   "metadata": {},
   "outputs": [],
   "source": [
    "personalized_surp_estimates_userflat_90perc = [item for sublist in personalized_surp_estimates_90perc for item in sublist]\n",
    "personalized_surp_estimates_userflat_95perc = [item for sublist in personalized_surp_estimates_95perc for item in sublist]\n",
    "personalized_surp_estimates_userflat_max = [item for sublist in personalized_surp_estimates_max for item in sublist]\n",
    "personalized_surp_estimates_recipeflat_90perc = [item for sublist in personalized_surp_estimates_recipelvl_90perc for item in sublist]\n",
    "personalized_surp_estimates_recipeflat_95perc = [item for sublist in personalized_surp_estimates_recipelvl_95perc for item in sublist]\n",
    "personalized_surp_estimates_recipeflat_max = [item for sublist in personalized_surp_estimates_recipelvl_max for item in sublist]"
   ]
  },
  {
   "cell_type": "markdown",
   "metadata": {},
   "source": [
    "Separate the foodies from novices"
   ]
  },
  {
   "cell_type": "code",
   "execution_count": 12,
   "metadata": {},
   "outputs": [],
   "source": [
    "# Get the foodies for the 90th and 95th percentiles and the max\n",
    "foodie_personalized_surp_estimates_90perc_dict = {each_: personalized_surp_estimates_90perc_dict[each_] \n",
    "\tfor each_ in personalized_surp_estimates_90perc_dict.keys() if each_ in foodie_surp_ratings_dict.keys()}\n",
    "foodie_personalized_surp_estimates_95perc_dict = {each_: personalized_surp_estimates_95perc_dict[each_] \n",
    "\tfor each_ in personalized_surp_estimates_95perc_dict.keys() if each_ in foodie_surp_ratings_dict.keys()}\n",
    "foodie_personalized_surp_estimates_max_dict = {each_: personalized_surp_estimates_max_dict[each_] \n",
    "\tfor each_ in personalized_surp_estimates_max_dict.keys() if each_ in foodie_surp_ratings_dict.keys()}\n",
    "# Get the novices for the 90th and 95th percentiles and the max\n",
    "novice_personalized_surp_estimates_90perc_dict = {each_: personalized_surp_estimates_90perc_dict[each_] \n",
    "\tfor each_ in personalized_surp_estimates_90perc_dict.keys() if each_ in novice_surp_ratings_dict.keys()}\n",
    "novice_personalized_surp_estimates_95perc_dict = {each_: personalized_surp_estimates_95perc_dict[each_] \n",
    "\tfor each_ in personalized_surp_estimates_95perc_dict.keys() if each_ in novice_surp_ratings_dict.keys()}\n",
    "novice_personalized_surp_estimates_max_dict = {each_: personalized_surp_estimates_max_dict[each_] \n",
    "\tfor each_ in personalized_surp_estimates_max_dict.keys() if each_ in novice_surp_ratings_dict.keys()}"
   ]
  },
  {
   "cell_type": "markdown",
   "metadata": {},
   "source": [
    "Transfer the foodies' and novices' into arrays using the same iterator's index for the ratings and estimates (at the same time to geuarantee synchronization)"
   ]
  },
  {
   "cell_type": "code",
   "execution_count": 13,
   "metadata": {},
   "outputs": [],
   "source": [
    "# Foodies\n",
    "foodie_surp_ratings = []\n",
    "foodie_personalized_surp_estimates_90perc = []\n",
    "foodie_personalized_surp_estimates_95perc = []\n",
    "foodie_personalized_surp_estimates_max = []\n",
    "for each_foodie in sorted(foodie_users):\n",
    "\tfoodie_surp_ratings.append(foodie_surp_ratings_dict[each_foodie])\n",
    "\tfoodie_personalized_surp_estimates_90perc.append(foodie_personalized_surp_estimates_90perc_dict[each_foodie])\n",
    "\tfoodie_personalized_surp_estimates_95perc.append(foodie_personalized_surp_estimates_95perc_dict[each_foodie])\n",
    "\tfoodie_personalized_surp_estimates_max.append(foodie_personalized_surp_estimates_max_dict[each_foodie])\n",
    "# Novices\n",
    "novice_surp_ratings = []\n",
    "novice_personalized_surp_estimates_90perc = []\n",
    "novice_personalized_surp_estimates_95perc = []\n",
    "novice_personalized_surp_estimates_max = []\n",
    "for each_novice in sorted(novice_users):\n",
    "\tnovice_surp_ratings.append(novice_surp_ratings_dict[each_novice])\n",
    "\tnovice_personalized_surp_estimates_90perc.append(novice_personalized_surp_estimates_90perc_dict[each_novice])\n",
    "\tnovice_personalized_surp_estimates_95perc.append(novice_personalized_surp_estimates_95perc_dict[each_novice])\n",
    "\tnovice_personalized_surp_estimates_max.append(novice_personalized_surp_estimates_max_dict[each_novice])"
   ]
  },
  {
   "cell_type": "markdown",
   "metadata": {},
   "source": [
    "Foodies and novices user level and recipe levels arrays and flatten them for surprise ratings"
   ]
  },
  {
   "cell_type": "code",
   "execution_count": 14,
   "metadata": {},
   "outputs": [],
   "source": [
    "# Foodies surprise ratings user and recipe level\n",
    "foodie_surp_ratings_userlvl = foodie_surp_ratings\n",
    "foodie_surp_ratings_recipelvl = np.transpose(foodie_surp_ratings_userlvl).tolist()\n",
    "# Foodies surprise ratings flattened on user and recipe level\n",
    "foodie_surp_ratings_user_flat = [item for sublist in foodie_surp_ratings_userlvl for item in sublist]\n",
    "foodie_surp_ratings_recipe_flat = [item for sublist in foodie_surp_ratings_recipelvl for item in sublist]\n",
    "# Novices surprise ratings user and recipe level\n",
    "novice_surp_ratings_userlvl = novice_surp_ratings\n",
    "novice_surp_ratings_recipelvl = np.transpose(novice_surp_ratings_userlvl).tolist()\n",
    "# Novices surprise ratings flattened on user and recipe level\n",
    "novice_surp_ratings_user_flat = [item for sublist in novice_surp_ratings_userlvl for item in sublist]\n",
    "novice_surp_ratings_recipe_flat = [item for sublist in novice_surp_ratings_recipelvl for item in sublist]"
   ]
  },
  {
   "cell_type": "markdown",
   "metadata": {},
   "source": [
    "Flatten the foodies' and novices' personalized for surprise estimates"
   ]
  },
  {
   "cell_type": "code",
   "execution_count": 15,
   "metadata": {},
   "outputs": [],
   "source": [
    "# Foodies surprise estimates on user level\n",
    "foodie_personalized_surp_estimates_userflat_90perc = [item for sublist in foodie_personalized_surp_estimates_90perc for item in sublist]\n",
    "foodie_personalized_surp_estimates_userflat_95perc = [item for sublist in foodie_personalized_surp_estimates_95perc for item in sublist]\n",
    "foodie_personalized_surp_estimates_userflat_max = [item for sublist in foodie_personalized_surp_estimates_max for item in sublist]\n",
    "# Foodies surprise estimates on recipe level\n",
    "foodie_personalized_surp_estimates_recipelvl_90perc = np.transpose(foodie_personalized_surp_estimates_90perc).tolist()\n",
    "foodie_personalized_surp_estimates_recipeflat_90perc = [item for sublist in foodie_personalized_surp_estimates_recipelvl_90perc for item in sublist]\n",
    "foodie_personalized_surp_estimates_recipelvl_95perc = np.transpose(foodie_personalized_surp_estimates_95perc).tolist()\n",
    "foodie_personalized_surp_estimates_recipeflat_95perc = [item for sublist in foodie_personalized_surp_estimates_recipelvl_95perc for item in sublist]\n",
    "foodie_personalized_surp_estimates_recipelvl_max = np.transpose(foodie_personalized_surp_estimates_max).tolist()\n",
    "foodie_personalized_surp_estimates_recipeflat_max = [item for sublist in foodie_personalized_surp_estimates_recipelvl_max for item in sublist]\n",
    "# Novices surprise estimates on user level\n",
    "novice_personalized_surp_estimates_userflat_90perc = [item for sublist in novice_personalized_surp_estimates_90perc for item in sublist]\n",
    "novice_personalized_surp_estimates_userflat_95perc = [item for sublist in novice_personalized_surp_estimates_95perc for item in sublist]\n",
    "novice_personalized_surp_estimates_userflat_max = [item for sublist in novice_personalized_surp_estimates_max for item in sublist]\n",
    "# Novices surprise estimates on recipe level\n",
    "novice_personalized_surp_estimates_recipelvl_90perc = np.transpose(novice_personalized_surp_estimates_90perc).tolist()\n",
    "novice_personalized_surp_estimates_recipeflat_90perc = [item for sublist in novice_personalized_surp_estimates_recipelvl_90perc for item in sublist]\n",
    "novice_personalized_surp_estimates_recipelvl_95perc = np.transpose(novice_personalized_surp_estimates_95perc).tolist()\n",
    "novice_personalized_surp_estimates_recipeflat_95perc = [item for sublist in novice_personalized_surp_estimates_recipelvl_95perc for item in sublist]\n",
    "novice_personalized_surp_estimates_recipelvl_max = np.transpose(novice_personalized_surp_estimates_max).tolist()\n",
    "novice_personalized_surp_estimates_recipeflat_max = [item for sublist in novice_personalized_surp_estimates_recipelvl_max for item in sublist]"
   ]
  },
  {
   "cell_type": "markdown",
   "metadata": {},
   "source": [
    "Get the oracle surprise estimates by the model"
   ]
  },
  {
   "cell_type": "code",
   "execution_count": 16,
   "metadata": {},
   "outputs": [],
   "source": [
    "oracle_suprise_pickle_fn = cwd + '/GloVex/results/recipes_oracle/oracle_suprise.pickle'\n",
    "oracle_suprise_dict = pickle.load(open(oracle_suprise_pickle_fn, 'rb'))"
   ]
  },
  {
   "cell_type": "markdown",
   "metadata": {},
   "source": [
    "Get the oracle's surprise estimates (95th percentile and max score)"
   ]
  },
  {
   "cell_type": "code",
   "execution_count": 17,
   "metadata": {},
   "outputs": [],
   "source": [
    "# Initialize arrays\n",
    "oracle_surp_estimates_90perc = []\n",
    "oracle_surp_estimates_95perc = []\n",
    "oracle_surp_estimates_max = []\n",
    "observed_surp_estimates_90perc = []\n",
    "observed_surp_estimates_95perc = []\n",
    "observed_surp_estimates_max = []\n",
    "# Iterate over the dict\n",
    "for each_recipe in sorted(oracle_suprise_dict):\n",
    "\t# print 'each_recipe', each_recipe\n",
    "\t# Get all of the ingredients combinations' surprise estimates\n",
    "\toracle_ingr_surp_estimates = [each_ingr_comb[2] for each_ingr_comb in oracle_suprise_dict[each_recipe]['surprise_cuisine']]\n",
    "\tobserved_ingr_surp_estimates = [each_ingr_comb[2] for each_ingr_comb in oracle_suprise_dict[each_recipe]['observed_surprise_cuisine']]\n",
    "\t# Append the 90th and 95th_percentiles and max surprise estimates\n",
    "\toracle_surp_estimates_90perc.append(oracle_suprise_dict[each_recipe]['90th_percentile'])\n",
    "\toracle_surp_estimates_95perc.append(oracle_suprise_dict[each_recipe]['95th_percentile'])\n",
    "\toracle_surp_estimates_max.append(max(oracle_ingr_surp_estimates))\n",
    "\tobserved_surp_estimates_90perc.append(oracle_suprise_dict[each_recipe]['observed_90th_percentile'])\n",
    "\tobserved_surp_estimates_95perc.append(oracle_suprise_dict[each_recipe]['observed_95th_percentile'])\n",
    "\tobserved_surp_estimates_max.append(max(observed_ingr_surp_estimates))"
   ]
  },
  {
   "cell_type": "markdown",
   "metadata": {},
   "source": [
    "Find correlation between surprise scores"
   ]
  },
  {
   "cell_type": "markdown",
   "metadata": {},
   "source": [
    "Function for calculating correlation per user"
   ]
  },
  {
   "cell_type": "code",
   "execution_count": 18,
   "metadata": {},
   "outputs": [],
   "source": [
    "# Function for calculating the correlation per user\n",
    "def corr_per_user(oracle_surp, personalized_surp_estimates, users_surp_ratings_userlvl):\n",
    "\tfor user_idx, (each_personal_score, each_users_rating) in enumerate(zip(personalized_surp_estimates, users_surp_ratings_userlvl)):\n",
    "\t\t# print user_idx, each_personal_score, each_users_rating\n",
    "\t\t# print 'oracle_surp: spearmanr', spearmanr(oracle_surp, each_users_rating)\n",
    "\t\t# print 'each_personal_score: spearmanr', spearmanr(each_personal_score, each_users_rating)\n",
    "\t\toracles_pearsonr_corr, oracles_pearsonr_pvalue = pearsonr(oracle_surp, each_users_rating)\n",
    "\t\tpersonals_pearsonr_corr, personals_pearsonr_pvalue = pearsonr(each_personal_score, each_users_rating)\n",
    "\t\tif oracles_pearsonr_pvalue <= 0.05:\n",
    "\t\t\tprint user_idx, 'oracle_surp: pearsonr', oracles_pearsonr_corr, oracles_pearsonr_pvalue\n",
    "\t\tif personals_pearsonr_pvalue <= 0.05:\n",
    "\t\t\tprint user_idx, 'each_personal_score: pearsonr', personals_pearsonr_corr, personals_pearsonr_pvalue"
   ]
  },
  {
   "cell_type": "markdown",
   "metadata": {},
   "source": [
    "All users personalized with: Oracle and Observed and users' surprise ratings (90th, 95th and max)"
   ]
  },
  {
   "cell_type": "code",
   "execution_count": null,
   "metadata": {},
   "outputs": [],
   "source": [
    "corr_per_user(oracle_surp_estimates_90perc, personalized_surp_estimates_90perc, users_surp_ratings_userlvl)"
   ]
  },
  {
   "cell_type": "code",
   "execution_count": null,
   "metadata": {},
   "outputs": [],
   "source": [
    "corr_per_user(observed_surp_estimates_90perc, personalized_surp_estimates_90perc, users_surp_ratings_userlvl)"
   ]
  },
  {
   "cell_type": "code",
   "execution_count": null,
   "metadata": {},
   "outputs": [],
   "source": [
    "corr_per_user(oracle_surp_estimates_95perc, personalized_surp_estimates_95perc, users_surp_ratings_userlvl)"
   ]
  },
  {
   "cell_type": "code",
   "execution_count": null,
   "metadata": {},
   "outputs": [],
   "source": [
    "corr_per_user(observed_surp_estimates_95perc, personalized_surp_estimates_95perc, users_surp_ratings_userlvl)"
   ]
  },
  {
   "cell_type": "code",
   "execution_count": null,
   "metadata": {},
   "outputs": [],
   "source": [
    "corr_per_user(oracle_surp_estimates_max, personalized_surp_estimates_max, users_surp_ratings_userlvl)"
   ]
  },
  {
   "cell_type": "code",
   "execution_count": null,
   "metadata": {},
   "outputs": [],
   "source": [
    "corr_per_user(observed_surp_estimates_max, personalized_surp_estimates_max, users_surp_ratings_userlvl)"
   ]
  },
  {
   "cell_type": "markdown",
   "metadata": {},
   "source": [
    "Foodies personalized with: Oracle and Observed and users' surprise ratings (90th, 95th and max)"
   ]
  },
  {
   "cell_type": "code",
   "execution_count": null,
   "metadata": {},
   "outputs": [],
   "source": [
    "corr_per_user(oracle_surp_estimates_90perc, foodie_personalized_surp_estimates_90perc, foodie_surp_ratings_userlvl)"
   ]
  },
  {
   "cell_type": "code",
   "execution_count": null,
   "metadata": {},
   "outputs": [],
   "source": [
    "corr_per_user(observed_surp_estimates_90perc, foodie_personalized_surp_estimates_90perc, foodie_surp_ratings_userlvl)"
   ]
  },
  {
   "cell_type": "code",
   "execution_count": null,
   "metadata": {},
   "outputs": [],
   "source": [
    "corr_per_user(oracle_surp_estimates_95perc, foodie_personalized_surp_estimates_95perc, foodie_surp_ratings_userlvl)"
   ]
  },
  {
   "cell_type": "code",
   "execution_count": null,
   "metadata": {},
   "outputs": [],
   "source": [
    "corr_per_user(observed_surp_estimates_95perc, foodie_personalized_surp_estimates_95perc, foodie_surp_ratings_userlvl)"
   ]
  },
  {
   "cell_type": "code",
   "execution_count": null,
   "metadata": {},
   "outputs": [],
   "source": [
    "corr_per_user(oracle_surp_estimates_max, foodie_personalized_surp_estimates_max, foodie_surp_ratings_userlvl)"
   ]
  },
  {
   "cell_type": "code",
   "execution_count": null,
   "metadata": {},
   "outputs": [],
   "source": [
    "corr_per_user(observed_surp_estimates_max, foodie_personalized_surp_estimates_max, foodie_surp_ratings_userlvl)"
   ]
  },
  {
   "cell_type": "markdown",
   "metadata": {},
   "source": [
    "Novices personalized with: Oracle and Observed and users' surprise ratings (90th, 95th and max)"
   ]
  },
  {
   "cell_type": "code",
   "execution_count": null,
   "metadata": {},
   "outputs": [],
   "source": [
    "corr_per_user(oracle_surp_estimates_90perc, novice_personalized_surp_estimates_90perc, novice_surp_ratings_userlvl)"
   ]
  },
  {
   "cell_type": "code",
   "execution_count": null,
   "metadata": {},
   "outputs": [],
   "source": [
    "corr_per_user(observed_surp_estimates_90perc, novice_personalized_surp_estimates_90perc, novice_surp_ratings_userlvl)"
   ]
  },
  {
   "cell_type": "code",
   "execution_count": null,
   "metadata": {},
   "outputs": [],
   "source": [
    "corr_per_user(oracle_surp_estimates_95perc, novice_personalized_surp_estimates_95perc, novice_surp_ratings_userlvl)"
   ]
  },
  {
   "cell_type": "code",
   "execution_count": null,
   "metadata": {},
   "outputs": [],
   "source": [
    "corr_per_user(observed_surp_estimates_95perc, novice_personalized_surp_estimates_95perc, novice_surp_ratings_userlvl)"
   ]
  },
  {
   "cell_type": "code",
   "execution_count": null,
   "metadata": {},
   "outputs": [],
   "source": [
    "corr_per_user(oracle_surp_estimates_max, novice_personalized_surp_estimates_max, novice_surp_ratings_userlvl)"
   ]
  },
  {
   "cell_type": "code",
   "execution_count": null,
   "metadata": {},
   "outputs": [],
   "source": [
    "corr_per_user(observed_surp_estimates_max, novice_personalized_surp_estimates_max, novice_surp_ratings_userlvl)"
   ]
  },
  {
   "cell_type": "markdown",
   "metadata": {},
   "source": [
    "Function for calculating correlation per recipe"
   ]
  },
  {
   "cell_type": "code",
   "execution_count": 19,
   "metadata": {},
   "outputs": [],
   "source": [
    "def corr_per_recipe(personalized_surp_estimates_recipelvl, users_surp_ratings_recipelvl):\n",
    "\tfor user_idx, (each_personal_score, each_users_rating) in enumerate(zip(personalized_surp_estimates_recipelvl,\n",
    "\t  users_surp_ratings_recipelvl)):\n",
    "\t\t# print user_idx, each_personal_score, each_users_rating\n",
    "\t\t# print 'each_personal_score: spearmanr', spearmanr(each_personal_score, each_users_rating)\n",
    "\t\tpersonals_pearson_corr, personals_pearson_pvalue = pearsonr(each_personal_score, each_users_rating)\n",
    "\t\tif personals_pearson_pvalue <= 0.05:\n",
    "\t\t\tprint user_idx, 'each_personal_score: pearsonr', personals_pearson_corr, personals_pearson_pvalue"
   ]
  },
  {
   "cell_type": "markdown",
   "metadata": {},
   "source": [
    "All users personalized with: users' surprise ratings (90th, 95th and max)"
   ]
  },
  {
   "cell_type": "code",
   "execution_count": null,
   "metadata": {},
   "outputs": [],
   "source": [
    "corr_per_recipe(personalized_surp_estimates_recipelvl_95perc, users_surp_ratings_recipelvl)\n",
    "corr_per_recipe(personalized_surp_estimates_recipelvl_90perc, users_surp_ratings_recipelvl)\n",
    "corr_per_recipe(personalized_surp_estimates_recipelvl_max, users_surp_ratings_recipelvl)"
   ]
  },
  {
   "cell_type": "markdown",
   "metadata": {},
   "source": [
    "Foodies personalized with: users' surprise ratings (90th, 95th and max)"
   ]
  },
  {
   "cell_type": "code",
   "execution_count": null,
   "metadata": {},
   "outputs": [],
   "source": [
    "corr_per_recipe(foodie_personalized_surp_estimates_recipelvl_95perc, foodie_surp_ratings_recipelvl)\n",
    "corr_per_recipe(foodie_personalized_surp_estimates_recipelvl_90perc, foodie_surp_ratings_recipelvl)\n",
    "corr_per_recipe(foodie_personalized_surp_estimates_recipelvl_max, foodie_surp_ratings_recipelvl)"
   ]
  },
  {
   "cell_type": "markdown",
   "metadata": {},
   "source": [
    "Novices personalized with: users' surprise ratings (90th, 95th and max)"
   ]
  },
  {
   "cell_type": "code",
   "execution_count": null,
   "metadata": {},
   "outputs": [],
   "source": [
    "corr_per_recipe(novice_personalized_surp_estimates_recipelvl_90perc, novice_surp_ratings_recipelvl)\n",
    "corr_per_recipe(novice_personalized_surp_estimates_recipelvl_95perc, novice_surp_ratings_recipelvl)\n",
    "corr_per_recipe(novice_personalized_surp_estimates_recipelvl_max, novice_surp_ratings_recipelvl)"
   ]
  },
  {
   "cell_type": "markdown",
   "metadata": {},
   "source": [
    "Get averages for the recipe level arrays"
   ]
  },
  {
   "cell_type": "code",
   "execution_count": 20,
   "metadata": {},
   "outputs": [],
   "source": [
    "# All, foodies and novices users ratings\n",
    "users_surp_ratings_recipelvl_avg = averageing_fn(users_surp_ratings_recipelvl)\n",
    "foodie_surp_ratings_recipelvl_avg = averageing_fn(foodie_surp_ratings_recipelvl)\n",
    "novice_surp_ratings_recipelvl_avg = averageing_fn(novice_surp_ratings_recipelvl)\n",
    "# All 90th 95th perc and max estimates\n",
    "personalized_surp_estimates_recipelvl_90perc_avg = averageing_fn(personalized_surp_estimates_recipelvl_90perc)\n",
    "personalized_surp_estimates_recipelvl_95perc_avg = averageing_fn(personalized_surp_estimates_recipelvl_95perc)\n",
    "personalized_surp_estimates_recipelvl_max_avg = averageing_fn(personalized_surp_estimates_recipelvl_max)\n",
    "# Foodies 90th 95th perc and max estimates\n",
    "foodie_personalized_surp_estimates_recipelvl_90perc_avg = averageing_fn(foodie_personalized_surp_estimates_recipelvl_90perc)\n",
    "foodie_personalized_surp_estimates_recipelvl_95perc_avg = averageing_fn(foodie_personalized_surp_estimates_recipelvl_95perc)\n",
    "foodie_personalized_surp_estimates_recipelvl_max_avg = averageing_fn(foodie_personalized_surp_estimates_recipelvl_max)\n",
    "# Novices 90th 95th perc and max estimates\n",
    "novice_personalized_surp_estimates_recipelvl_90perc_avg = averageing_fn(novice_personalized_surp_estimates_recipelvl_90perc)\n",
    "novice_personalized_surp_estimates_recipelvl_95perc_avg = averageing_fn(novice_personalized_surp_estimates_recipelvl_95perc)\n",
    "novice_personalized_surp_estimates_recipelvl_max_avg = averageing_fn(novice_personalized_surp_estimates_recipelvl_max)"
   ]
  },
  {
   "cell_type": "markdown",
   "metadata": {},
   "source": [
    "Correlation of the average"
   ]
  },
  {
   "cell_type": "markdown",
   "metadata": {},
   "source": [
    "All users' personalized surprise estimates of 90th and 95th percentiles and max with users' ratings"
   ]
  },
  {
   "cell_type": "code",
   "execution_count": 21,
   "metadata": {},
   "outputs": [
    {
     "name": "stdout",
     "output_type": "stream",
     "text": [
      "spearmanr SpearmanrResult(correlation=0.31176470588235294, pvalue=0.23980004767411284)\npearsonr (0.45564429612584484, 0.07611815743193404)\nspearmanr SpearmanrResult(correlation=0.35000000000000003, pvalue=0.18386882202619317)\npearsonr (0.5412615713514117, 0.030369029459331964)\nspearmanr SpearmanrResult(correlation=0.27058823529411763, pvalue=0.31076062710233504)\npearsonr (0.49019740771614306, 0.053900348835378954)\n"
     ]
    }
   ],
   "source": [
    "print 'spearmanr', spearmanr(personalized_surp_estimates_recipelvl_90perc_avg, users_surp_ratings_recipelvl_avg)\n",
    "print 'pearsonr', pearsonr(personalized_surp_estimates_recipelvl_90perc_avg, users_surp_ratings_recipelvl_avg)\n",
    "print 'spearmanr', spearmanr(personalized_surp_estimates_recipelvl_95perc_avg, users_surp_ratings_recipelvl_avg)\n",
    "print 'pearsonr', pearsonr(personalized_surp_estimates_recipelvl_95perc_avg, users_surp_ratings_recipelvl_avg)\n",
    "print 'spearmanr', spearmanr(personalized_surp_estimates_recipelvl_max_avg, users_surp_ratings_recipelvl_avg)\n",
    "print 'pearsonr', pearsonr(personalized_surp_estimates_recipelvl_max_avg, users_surp_ratings_recipelvl_avg)"
   ]
  },
  {
   "cell_type": "markdown",
   "metadata": {},
   "source": [
    "Foodies personalized surprise estimates of 90th and 95th perc and max with users' ratings"
   ]
  },
  {
   "cell_type": "code",
   "execution_count": 22,
   "metadata": {},
   "outputs": [
    {
     "name": "stdout",
     "output_type": "stream",
     "text": [
      "spearmanr SpearmanrResult(correlation=0.2676470588235294, pvalue=0.3162544185483094)\npearsonr (0.41984068174247896, 0.10545083642198491)\nspearmanr SpearmanrResult(correlation=0.2823529411764706, pvalue=0.2893498290632739)\npearsonr (0.4850083352873749, 0.05688520587214307)\nspearmanr SpearmanrResult(correlation=0.19117647058823528, pvalue=0.47816401281702825)\npearsonr (0.4164187126691946, 0.10861885535387483)\n"
     ]
    }
   ],
   "source": [
    "print 'spearmanr', spearmanr(foodie_personalized_surp_estimates_recipelvl_90perc_avg, foodie_surp_ratings_recipelvl_avg)\n",
    "print 'pearsonr', pearsonr(foodie_personalized_surp_estimates_recipelvl_90perc_avg, foodie_surp_ratings_recipelvl_avg)\n",
    "print 'spearmanr', spearmanr(foodie_personalized_surp_estimates_recipelvl_95perc_avg, foodie_surp_ratings_recipelvl_avg)\n",
    "print 'pearsonr', pearsonr(foodie_personalized_surp_estimates_recipelvl_95perc_avg, foodie_surp_ratings_recipelvl_avg)\n",
    "print 'spearmanr', spearmanr(foodie_personalized_surp_estimates_recipelvl_max_avg, foodie_surp_ratings_recipelvl_avg)\n",
    "print 'pearsonr', pearsonr(foodie_personalized_surp_estimates_recipelvl_max_avg, foodie_surp_ratings_recipelvl_avg)"
   ]
  },
  {
   "cell_type": "markdown",
   "metadata": {},
   "source": [
    "Novices personalized surprise estimates of 90th and 95th perc and max with users' ratings"
   ]
  },
  {
   "cell_type": "code",
   "execution_count": 23,
   "metadata": {},
   "outputs": [
    {
     "name": "stdout",
     "output_type": "stream",
     "text": [
      "spearmanr SpearmanrResult(correlation=0.3411764705882353, pvalue=0.1959326248678891)\npearsonr (0.471195170399993, 0.06542396980853003)\nspearmanr SpearmanrResult(correlation=0.37941176470588234, pvalue=0.14722713386289268)\npearsonr (0.5661120462112273, 0.022254372616031304)\nspearmanr SpearmanrResult(correlation=0.32647058823529407, pvalue=0.2171594905792295)\npearsonr (0.5362178340096736, 0.03226006323579834)\n"
     ]
    }
   ],
   "source": [
    "print 'spearmanr', spearmanr(novice_personalized_surp_estimates_recipelvl_90perc_avg, novice_surp_ratings_recipelvl_avg)\n",
    "print 'pearsonr', pearsonr(novice_personalized_surp_estimates_recipelvl_90perc_avg, novice_surp_ratings_recipelvl_avg)\n",
    "print 'spearmanr', spearmanr(novice_personalized_surp_estimates_recipelvl_95perc_avg, novice_surp_ratings_recipelvl_avg)\n",
    "print 'pearsonr', pearsonr(novice_personalized_surp_estimates_recipelvl_95perc_avg, novice_surp_ratings_recipelvl_avg)\n",
    "print 'spearmanr', spearmanr(novice_personalized_surp_estimates_recipelvl_max_avg, novice_surp_ratings_recipelvl_avg)\n",
    "print 'pearsonr', pearsonr(novice_personalized_surp_estimates_recipelvl_max_avg, novice_surp_ratings_recipelvl_avg)"
   ]
  },
  {
   "cell_type": "markdown",
   "metadata": {},
   "source": [
    "Oracles surprise estimates of 90th and 95th perc and max with users' ratings"
   ]
  },
  {
   "cell_type": "code",
   "execution_count": 24,
   "metadata": {},
   "outputs": [
    {
     "name": "stdout",
     "output_type": "stream",
     "text": [
      "spearmanr SpearmanrResult(correlation=0.9705882352941176, pvalue=4.723401127287032e-10)\npearsonr (0.9693551568596502, 6.276046427793773e-10)\nspearmanr SpearmanrResult(correlation=0.9911764705882352, pvalue=1.090829151044044e-13)\npearsonr (0.9806348185630149, 2.6021064673713714e-11)\nspearmanr SpearmanrResult(correlation=0.988235294117647, pvalue=8.108881053980581e-13)\npearsonr (0.9896911877706435, 3.2286500395377435e-13)\n"
     ]
    }
   ],
   "source": [
    "print 'spearmanr', spearmanr(oracle_surp_estimates_90perc, users_surp_ratings_recipelvl_avg)\n",
    "print 'pearsonr', pearsonr(oracle_surp_estimates_90perc, users_surp_ratings_recipelvl_avg)\n",
    "print 'spearmanr', spearmanr(oracle_surp_estimates_95perc, users_surp_ratings_recipelvl_avg)\n",
    "print 'pearsonr', pearsonr(oracle_surp_estimates_95perc, users_surp_ratings_recipelvl_avg)\n",
    "print 'spearmanr', spearmanr(oracle_surp_estimates_max, users_surp_ratings_recipelvl_avg)\n",
    "print 'pearsonr', pearsonr(oracle_surp_estimates_max, users_surp_ratings_recipelvl_avg)"
   ]
  },
  {
   "cell_type": "markdown",
   "metadata": {},
   "source": [
    "Observed surprise estimates of 90th and 95th perc and max with users' ratings"
   ]
  },
  {
   "cell_type": "code",
   "execution_count": 25,
   "metadata": {},
   "outputs": [
    {
     "name": "stdout",
     "output_type": "stream",
     "text": [
      "spearmanr SpearmanrResult(correlation=0.9705882352941176, pvalue=4.723401127287032e-10)\npearsonr (0.9693551568596502, 6.276046427793773e-10)\nspearmanr SpearmanrResult(correlation=0.9911764705882352, pvalue=1.090829151044044e-13)\npearsonr (0.9806348185630149, 2.6021064673713714e-11)\nspearmanr SpearmanrResult(correlation=0.988235294117647, pvalue=8.108881053980581e-13)\npearsonr (0.9896911877706435, 3.2286500395377435e-13)\n"
     ]
    }
   ],
   "source": [
    "print 'spearmanr', spearmanr(observed_surp_estimates_90perc, users_surp_ratings_recipelvl_avg)\n",
    "print 'pearsonr', pearsonr(observed_surp_estimates_90perc, users_surp_ratings_recipelvl_avg)\n",
    "print 'spearmanr', spearmanr(observed_surp_estimates_95perc, users_surp_ratings_recipelvl_avg)\n",
    "print 'pearsonr', pearsonr(observed_surp_estimates_95perc, users_surp_ratings_recipelvl_avg)\n",
    "print 'spearmanr', spearmanr(observed_surp_estimates_max, users_surp_ratings_recipelvl_avg)\n",
    "print 'pearsonr', pearsonr(observed_surp_estimates_max, users_surp_ratings_recipelvl_avg)"
   ]
  },
  {
   "cell_type": "markdown",
   "metadata": {},
   "source": [
    "Observed surprise of 90th and 95th perc and max with all"
   ]
  },
  {
   "cell_type": "code",
   "execution_count": 28,
   "metadata": {},
   "outputs": [
    {
     "name": "stdout",
     "output_type": "stream",
     "text": [
      "spearmanr SpearmanrResult(correlation=0.9705882352941176, pvalue=4.723401127287032e-10)\npearsonr (0.9693551568596502, 6.276046427793773e-10)\nspearmanr SpearmanrResult(correlation=0.9911764705882352, pvalue=1.090829151044044e-13)\npearsonr (0.9806348185630149, 2.6021064673713714e-11)\nspearmanr SpearmanrResult(correlation=0.988235294117647, pvalue=8.108881053980581e-13)\npearsonr (0.9896911877706435, 3.2286500395377435e-13)\n"
     ]
    }
   ],
   "source": [
    "print 'spearmanr', spearmanr(observed_surp_estimates_90perc, personalized_surp_estimates_recipelvl_90perc_avg)\n",
    "print 'pearsonr', pearsonr(observed_surp_estimates_90perc, personalized_surp_estimates_recipelvl_90perc_avg)\n",
    "print 'spearmanr', spearmanr(observed_surp_estimates_95perc, personalized_surp_estimates_recipelvl_95perc_avg)\n",
    "print 'pearsonr', pearsonr(observed_surp_estimates_95perc, personalized_surp_estimates_recipelvl_95perc_avg)\n",
    "print 'spearmanr', spearmanr(observed_surp_estimates_max, personalized_surp_estimates_recipelvl_max_avg)\n",
    "print 'pearsonr', pearsonr(observed_surp_estimates_max, personalized_surp_estimates_recipelvl_max_avg)"
   ]
  },
  {
   "cell_type": "markdown",
   "metadata": {},
   "source": [
    "Observed surprise of 90th and 95th perc and max with foodies"
   ]
  },
  {
   "cell_type": "code",
   "execution_count": 29,
   "metadata": {},
   "outputs": [
    {
     "name": "stdout",
     "output_type": "stream",
     "text": [
      "spearmanr SpearmanrResult(correlation=0.9705882352941176, pvalue=4.723401127287032e-10)\npearsonr (0.9693551568596502, 6.276046427793773e-10)\nspearmanr SpearmanrResult(correlation=0.9911764705882352, pvalue=1.090829151044044e-13)\npearsonr (0.9806348185630149, 2.6021064673713714e-11)\nspearmanr SpearmanrResult(correlation=0.988235294117647, pvalue=8.108881053980581e-13)\npearsonr (0.9896911877706435, 3.2286500395377435e-13)\n"
     ]
    }
   ],
   "source": [
    "print 'spearmanr', spearmanr(observed_surp_estimates_90perc, foodie_personalized_surp_estimates_recipelvl_90perc_avg)\n",
    "print 'pearsonr', pearsonr(observed_surp_estimates_90perc, foodie_personalized_surp_estimates_recipelvl_90perc_avg)\n",
    "print 'spearmanr', spearmanr(observed_surp_estimates_95perc, foodie_personalized_surp_estimates_recipelvl_95perc_avg)\n",
    "print 'pearsonr', pearsonr(observed_surp_estimates_95perc, foodie_personalized_surp_estimates_recipelvl_95perc_avg)\n",
    "print 'spearmanr', spearmanr(observed_surp_estimates_max, foodie_personalized_surp_estimates_recipelvl_max_avg)\n",
    "print 'pearsonr', pearsonr(observed_surp_estimates_max, foodie_personalized_surp_estimates_recipelvl_max_avg)"
   ]
  },
  {
   "cell_type": "markdown",
   "metadata": {},
   "source": [
    "Observed surprise of 90th and 95th perc and max with novices"
   ]
  },
  {
   "cell_type": "code",
   "execution_count": 30,
   "metadata": {},
   "outputs": [
    {
     "name": "stdout",
     "output_type": "stream",
     "text": [
      "spearmanr SpearmanrResult(correlation=0.9705882352941176, pvalue=4.723401127287032e-10)\npearsonr (0.9693551568596502, 6.276046427793773e-10)\nspearmanr SpearmanrResult(correlation=0.9911764705882352, pvalue=1.090829151044044e-13)\npearsonr (0.9806348185630149, 2.6021064673713714e-11)\nspearmanr SpearmanrResult(correlation=0.988235294117647, pvalue=8.108881053980581e-13)\npearsonr (0.9896911877706435, 3.2286500395377435e-13)\n"
     ]
    }
   ],
   "source": [
    "print 'spearmanr', spearmanr(observed_surp_estimates_90perc, novice_personalized_surp_estimates_recipelvl_90perc_avg)\n",
    "print 'pearsonr', pearsonr(observed_surp_estimates_90perc, novice_personalized_surp_estimates_recipelvl_90perc_avg)\n",
    "print 'spearmanr', spearmanr(observed_surp_estimates_95perc, novice_personalized_surp_estimates_recipelvl_95perc_avg)\n",
    "print 'pearsonr', pearsonr(observed_surp_estimates_95perc, novice_personalized_surp_estimates_recipelvl_95perc_avg)\n",
    "print 'spearmanr', spearmanr(observed_surp_estimates_max, novice_personalized_surp_estimates_recipelvl_max_avg)\n",
    "print 'pearsonr', pearsonr(observed_surp_estimates_max, novice_personalized_surp_estimates_recipelvl_max_avg)"
   ]
  },
  {
   "cell_type": "markdown",
   "metadata": {},
   "source": [
    "Correlations users flattened"
   ]
  },
  {
   "cell_type": "code",
   "execution_count": 31,
   "metadata": {},
   "outputs": [
    {
     "name": "stdout",
     "output_type": "stream",
     "text": [
      "90th percentile\nspearmanr SpearmanrResult(correlation=0.13358475051773336, pvalue=3.7908526891928776e-60)\npearsonr (0.13747497064417477, 1.2577634124744815e-63)\n95th percentile\nspearmanr SpearmanrResult(correlation=0.15123245087718093, pvalue=9.26317583658567e-77)\npearsonr (0.15966878878608481, 1.8574140669609873e-85)\nMax score\nspearmanr SpearmanrResult(correlation=0.14515249459371699, pvalue=8.523692107224503e-71)\npearsonr (0.15165692571632164, 3.47445557640365e-77)\n"
     ]
    }
   ],
   "source": [
    "# All\n",
    "print '90th percentile'\n",
    "print 'spearmanr', spearmanr(personalized_surp_estimates_userflat_90perc, users_surp_ratings_user_flat)\n",
    "print 'pearsonr', pearsonr(personalized_surp_estimates_userflat_90perc, users_surp_ratings_user_flat)\n",
    "print '95th percentile'\n",
    "print 'spearmanr', spearmanr(personalized_surp_estimates_userflat_95perc, users_surp_ratings_user_flat)\n",
    "print 'pearsonr', pearsonr(personalized_surp_estimates_userflat_95perc, users_surp_ratings_user_flat)\n",
    "print 'Max score'\n",
    "print 'spearmanr', spearmanr(personalized_surp_estimates_userflat_max, users_surp_ratings_user_flat)\n",
    "print 'pearsonr', pearsonr(personalized_surp_estimates_userflat_max, users_surp_ratings_user_flat)"
   ]
  },
  {
   "cell_type": "code",
   "execution_count": 32,
   "metadata": {},
   "outputs": [
    {
     "name": "stdout",
     "output_type": "stream",
     "text": [
      "90th percentile\nspearmanr SpearmanrResult(correlation=0.1558950610999529, pvalue=7.262608347386821e-42)\npearsonr (0.14973221823346777, 1.0156817121333124e-38)\n95th percentile\nspearmanr SpearmanrResult(correlation=0.17567383998028238, pvalue=7.416979896271449e-53)\npearsonr (0.1831836899027783, 2.1638615745255126e-57)\nMax score\nspearmanr SpearmanrResult(correlation=0.17550916751215603, pvalue=9.2772857010858e-53)\npearsonr (0.1790756988091762, 6.931403524542747e-55)\n"
     ]
    }
   ],
   "source": [
    "# Foodies\n",
    "print '90th percentile'\n",
    "print 'spearmanr', spearmanr(foodie_personalized_surp_estimates_userflat_90perc, foodie_surp_ratings_user_flat)\n",
    "print 'pearsonr', pearsonr(foodie_personalized_surp_estimates_userflat_90perc, foodie_surp_ratings_user_flat)\n",
    "print '95th percentile'\n",
    "print 'spearmanr', spearmanr(foodie_personalized_surp_estimates_userflat_95perc, foodie_surp_ratings_user_flat)\n",
    "print 'pearsonr', pearsonr(foodie_personalized_surp_estimates_userflat_95perc, foodie_surp_ratings_user_flat)\n",
    "print 'Max score'\n",
    "print 'spearmanr', spearmanr(foodie_personalized_surp_estimates_userflat_max, foodie_surp_ratings_user_flat)\n",
    "print 'pearsonr', pearsonr(foodie_personalized_surp_estimates_userflat_max, foodie_surp_ratings_user_flat)"
   ]
  },
  {
   "cell_type": "code",
   "execution_count": 33,
   "metadata": {},
   "outputs": [
    {
     "name": "stdout",
     "output_type": "stream",
     "text": [
      "90th percentile\nspearmanr SpearmanrResult(correlation=0.1558950610999529, pvalue=7.262608347386821e-42)\npearsonr (0.14973221823346777, 1.0156817121333124e-38)\n95th percentile\nspearmanr SpearmanrResult(correlation=0.17567383998028238, pvalue=7.416979896271449e-53)\npearsonr (0.1831836899027783, 2.1638615745255126e-57)\nMax score\nspearmanr SpearmanrResult(correlation=0.17550916751215603, pvalue=9.2772857010858e-53)\npearsonr (0.1790756988091762, 6.931403524542747e-55)\n"
     ]
    }
   ],
   "source": [
    "# Novices\n",
    "print '90th percentile'\n",
    "print 'spearmanr', spearmanr(novice_personalized_surp_estimates_userflat_90perc, novice_surp_ratings_user_flat)\n",
    "print 'pearsonr', pearsonr(novice_personalized_surp_estimates_userflat_90perc, novice_surp_ratings_user_flat)\n",
    "print '95th percentile'\n",
    "print 'spearmanr', spearmanr(novice_personalized_surp_estimates_userflat_95perc, novice_surp_ratings_user_flat)\n",
    "print 'pearsonr', pearsonr(novice_personalized_surp_estimates_userflat_95perc, novice_surp_ratings_user_flat)\n",
    "print 'Max score'\n",
    "print 'spearmanr', spearmanr(novice_personalized_surp_estimates_userflat_max, novice_surp_ratings_user_flat)\n",
    "print 'pearsonr', pearsonr(novice_personalized_surp_estimates_userflat_max, novice_surp_ratings_user_flat)"
   ]
  },
  {
   "cell_type": "markdown",
   "metadata": {},
   "source": [
    "Correlations recipes flattened"
   ]
  },
  {
   "cell_type": "code",
   "execution_count": 34,
   "metadata": {},
   "outputs": [
    {
     "name": "stdout",
     "output_type": "stream",
     "text": [
      "90th percentile\nspearmanr SpearmanrResult(correlation=0.13358475051773336, pvalue=3.7908526891928776e-60)\npearsonr (0.1374749706441748, 1.2577634124744815e-63)\n95th percentile\nspearmanr SpearmanrResult(correlation=0.15123245087718093, pvalue=9.26317583658567e-77)\npearsonr (0.15966878878608481, 1.8574140669609873e-85)\nMax score\nspearmanr SpearmanrResult(correlation=0.14515249459371699, pvalue=8.523692107224503e-71)\npearsonr (0.15165692571632164, 3.47445557640365e-77)\n"
     ]
    }
   ],
   "source": [
    "# All\n",
    "print '90th percentile'\n",
    "print 'spearmanr', spearmanr(personalized_surp_estimates_recipeflat_90perc, users_surp_ratings_recipe_flat)\n",
    "print 'pearsonr', pearsonr(personalized_surp_estimates_recipeflat_90perc, users_surp_ratings_recipe_flat)\n",
    "print '95th percentile'\n",
    "print 'spearmanr', spearmanr(personalized_surp_estimates_recipeflat_95perc, users_surp_ratings_recipe_flat)\n",
    "print 'pearsonr', pearsonr(personalized_surp_estimates_recipeflat_95perc, users_surp_ratings_recipe_flat)\n",
    "print 'Max score'\n",
    "print 'spearmanr', spearmanr(personalized_surp_estimates_recipeflat_max, users_surp_ratings_recipe_flat)\n",
    "print 'pearsonr', pearsonr(personalized_surp_estimates_recipeflat_max, users_surp_ratings_recipe_flat)"
   ]
  },
  {
   "cell_type": "code",
   "execution_count": 35,
   "metadata": {},
   "outputs": [
    {
     "name": "stdout",
     "output_type": "stream",
     "text": [
      "90th percentile\nspearmanr SpearmanrResult(correlation=0.1558950610999529, pvalue=7.262608347386821e-42)\npearsonr (0.14973221823346777, 1.0156817121333124e-38)\n95th percentile\nspearmanr SpearmanrResult(correlation=0.17567383998028238, pvalue=7.416979896271449e-53)\npearsonr (0.1831836899027783, 2.1638615745255126e-57)\nMax score\nspearmanr SpearmanrResult(correlation=0.17550916751215603, pvalue=9.2772857010858e-53)\npearsonr (0.17907569880917623, 6.931403524542747e-55)\n"
     ]
    }
   ],
   "source": [
    "# Foodies\n",
    "print '90th percentile'\n",
    "print 'spearmanr', spearmanr(foodie_personalized_surp_estimates_recipeflat_90perc, foodie_surp_ratings_recipe_flat)\n",
    "print 'pearsonr', pearsonr(foodie_personalized_surp_estimates_recipeflat_90perc, foodie_surp_ratings_recipe_flat)\n",
    "print '95th percentile'\n",
    "print 'spearmanr', spearmanr(foodie_personalized_surp_estimates_recipeflat_95perc, foodie_surp_ratings_recipe_flat)\n",
    "print 'pearsonr', pearsonr(foodie_personalized_surp_estimates_recipeflat_95perc, foodie_surp_ratings_recipe_flat)\n",
    "print 'Max score'\n",
    "print 'spearmanr', spearmanr(foodie_personalized_surp_estimates_recipeflat_max, foodie_surp_ratings_recipe_flat)\n",
    "print 'pearsonr', pearsonr(foodie_personalized_surp_estimates_recipeflat_max, foodie_surp_ratings_recipe_flat)"
   ]
  },
  {
   "cell_type": "code",
   "execution_count": 36,
   "metadata": {},
   "outputs": [
    {
     "name": "stdout",
     "output_type": "stream",
     "text": [
      "90th percentile\nspearmanr SpearmanrResult(correlation=0.1558950610999529, pvalue=7.262608347386821e-42)\npearsonr (0.14973221823346777, 1.0156817121333124e-38)\n95th percentile\nspearmanr SpearmanrResult(correlation=0.17567383998028238, pvalue=7.416979896271449e-53)\npearsonr (0.1831836899027783, 2.1638615745255126e-57)\nMax score\nspearmanr SpearmanrResult(correlation=0.17550916751215603, pvalue=9.2772857010858e-53)\npearsonr (0.17907569880917623, 6.931403524542747e-55)\n"
     ]
    }
   ],
   "source": [
    "# Novices\n",
    "print '90th percentile'\n",
    "print 'spearmanr', spearmanr(novice_personalized_surp_estimates_recipeflat_90perc, novice_surp_ratings_recipe_flat)\n",
    "print 'pearsonr', pearsonr(novice_personalized_surp_estimates_recipeflat_90perc, novice_surp_ratings_recipe_flat)\n",
    "print '95th percentile'\n",
    "print 'spearmanr', spearmanr(novice_personalized_surp_estimates_recipeflat_95perc, novice_surp_ratings_recipe_flat)\n",
    "print 'pearsonr', pearsonr(novice_personalized_surp_estimates_recipeflat_95perc, novice_surp_ratings_recipe_flat)\n",
    "print 'Max score'\n",
    "print 'spearmanr', spearmanr(novice_personalized_surp_estimates_recipeflat_max, novice_surp_ratings_recipe_flat)\n",
    "print 'pearsonr', pearsonr(novice_personalized_surp_estimates_recipeflat_max, novice_surp_ratings_recipe_flat)"
   ]
  },
  {
   "cell_type": "markdown",
   "metadata": {},
   "source": [
    "Replicate the oracle by the number of the users to be able to correlate with the users' ratings (the arrays have to be the same size)"
   ]
  },
  {
   "cell_type": "code",
   "execution_count": 37,
   "metadata": {},
   "outputs": [],
   "source": [
    "oracle_surp_estimates_repeated_90perc = [oracle_surp_estimates_90perc] * len(users_surp_ratings_userlvl)\n",
    "oracle_surp_estimates_repeated_95perc = [oracle_surp_estimates_95perc] * len(users_surp_ratings_userlvl)\n",
    "oracle_surp_estimates_repeated_max = [oracle_surp_estimates_max] * len(users_surp_ratings_userlvl)\n",
    "oracle_surp_estimates_userflat_90perc = [item for sublist in oracle_surp_estimates_repeated_90perc for item in sublist]\n",
    "oracle_surp_estimates_userflat_95perc = [item for sublist in oracle_surp_estimates_repeated_95perc for item in sublist]\n",
    "oracle_surp_estimates_userflat_max = [item for sublist in oracle_surp_estimates_repeated_max for item in sublist]"
   ]
  },
  {
   "cell_type": "markdown",
   "metadata": {},
   "source": [
    "Correlations oracle flattened"
   ]
  },
  {
   "cell_type": "code",
   "execution_count": 38,
   "metadata": {},
   "outputs": [
    {
     "name": "stdout",
     "output_type": "stream",
     "text": [
      "90th percentile\nspearmanr SpearmanrResult(correlation=0.13147520004538019, pvalue=2.6448326397672406e-58)\npearsonr (0.14473599914872698, 2.1373610360755125e-70)\n95th percentile\nspearmanr SpearmanrResult(correlation=0.14933812305710636, pvalue=7.115234189100948e-75)\npearsonr (0.15687192152436383, 1.6110451171135993e-82)\nMax score\nspearmanr SpearmanrResult(correlation=0.15669729835819235, pvalue=2.447678864170345e-82)\npearsonr (0.16986957162184946, 1.231848023012572e-96)\n"
     ]
    }
   ],
   "source": [
    "print '90th percentile'\n",
    "print 'spearmanr', spearmanr(oracle_surp_estimates_userflat_90perc, users_surp_ratings_user_flat)\n",
    "print 'pearsonr', pearsonr(oracle_surp_estimates_userflat_90perc, users_surp_ratings_user_flat)\n",
    "print '95th percentile'\n",
    "print 'spearmanr', spearmanr(oracle_surp_estimates_userflat_95perc, users_surp_ratings_user_flat)\n",
    "print 'pearsonr', pearsonr(oracle_surp_estimates_userflat_95perc, users_surp_ratings_user_flat)\n",
    "print 'Max score'\n",
    "print 'spearmanr', spearmanr(oracle_surp_estimates_userflat_max, users_surp_ratings_user_flat)\n",
    "print 'pearsonr', pearsonr(oracle_surp_estimates_userflat_max, users_surp_ratings_user_flat)"
   ]
  },
  {
   "cell_type": "code",
   "execution_count": null,
   "metadata": {},
   "outputs": [],
   "source": []
  }
 ],
 "metadata": {
  "kernelspec": {
   "display_name": "Python 2",
   "language": "python",
   "name": "python2"
  },
  "language_info": {
   "codemirror_mode": {
    "name": "ipython",
    "version": 2
   },
   "file_extension": ".py",
   "mimetype": "text/x-python",
   "name": "python",
   "nbconvert_exporter": "python",
   "pygments_lexer": "ipython2",
   "version": "2.7.6"
  }
 },
 "nbformat": 4,
 "nbformat_minor": 0
}
