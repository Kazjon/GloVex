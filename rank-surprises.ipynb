{
 "cells": [
  {
   "cell_type": "code",
   "execution_count": 8,
   "metadata": {
    "collapsed": true
   },
   "outputs": [],
   "source": [
    "import os, pickle, json\n",
    "cwd = os.getcwd()"
   ]
  },
  {
   "cell_type": "code",
   "execution_count": 2,
   "metadata": {},
   "outputs": [
    {
     "data": {
      "text/plain": [
       "'/Volumes/GoogleDrive/My Drive/Live/PQE/Omar/GloVex/results/evaluate_personalized/user_suprise_estimates.pickle'"
      ]
     },
     "execution_count": 2,
     "metadata": {},
     "output_type": "execute_result"
    }
   ],
   "source": [
    "user_suprise_estimates_fn = cwd + '/GloVex/results/evaluate_personalized/user_suprise_estimates.pickle'\n",
    "user_suprise_estimates_fn"
   ]
  },
  {
   "cell_type": "code",
   "execution_count": 4,
   "metadata": {},
   "outputs": [],
   "source": [
    "user_suprise_estimates_dict = pickle.load(open(user_suprise_estimates_fn, 'rb'))"
   ]
  },
  {
   "cell_type": "code",
   "execution_count": 10,
   "metadata": {},
   "outputs": [],
   "source": [
    "user_suprise_estimates_json_fn = user_suprise_estimates_fn = cwd + '/GloVex/results/evaluate_personalized/user_suprise_estimates.json'\n",
    "json.dump(user_suprise_estimates_dict, open(user_suprise_estimates_json_fn, 'w'))"
   ]
  },
  {
   "cell_type": "code",
   "execution_count": 11,
   "metadata": {},
   "outputs": [
    {
     "data": {
      "text/plain": [
       "{'95th_percentile': 0.0615741956187114,\n 'ingredients': 'green_chili_peppers milk cheddar_cheese all-purpose_flour onions salt mozzarella green_chili_salsa eggs',\n 'recipe_id': '0',\n 'surprise_cuisine': [(u'cheddar_cheese',\n   u'eggs',\n   -0.9413390376878761,\n   (('mexican', -1.5164089466225534),\n    ('chinese', -3.199605299082064),\n    ('modern', -0.48797122971938417),\n    ('greek', -2.1467964559511907),\n    ('indian', -3.4502639295317383),\n    ('italian', -0.9819964466487189))),\n  (u'cheddar_cheese',\n   u'green_chili_peppers',\n   -3.1087243045526147,\n   (('mexican', -1.02551755976675),\n    ('greek', -8.701754573482926),\n    ('indian', -6.411403780664722),\n    ('italian', -6.082221335592917))),\n  (u'cheddar_cheese',\n   u'milk',\n   -0.9365696015093224,\n   (('mexican', -1.8892053693940967),\n    ('chinese', -5.066789345804696),\n    ('modern', -1.3727951512947734),\n    ('greek', -1.3989356253387193),\n    ('indian', -2.6909261718159234),\n    ('italian', -1.6771771196870142))),\n  (u'cheddar_cheese',\n   u'mozzarella',\n   -1.6247057555112612,\n   (('mexican', -0.3782704435178635),\n    ('chinese', -9.583185628452085),\n    ('modern', -3.6740152665501724),\n    ('greek', -5.189189754216293),\n    ('italian', -1.0555502746523224))),\n  (u'cheddar_cheese',\n   u'onions',\n   -0.27223259830552937,\n   (('mexican', -0.067843300472644),\n    ('chinese', -1.5337094213185198),\n    ('modern', -0.733920915000121),\n    ('greek', -0.34533171909066385),\n    ('indian', -1.2782544244071217),\n    ('italian', 0.21928384834132694))),\n  (u'cheddar_cheese',\n   u'purpose_flour',\n   -0.994936346484934,\n   (('mexican', -1.1829418924801713),\n    ('chinese', -5.416641018037488),\n    ('modern', -0.10516903478738962),\n    ('greek', -1.7703143747015473),\n    ('indian', -3.8758916289466137),\n    ('italian', -0.5431436620980288))),\n  (u'cheddar_cheese',\n   u'salt',\n   -0.04702467485540141,\n   (('mexican', 0.3421320052399453),\n    ('chinese', -0.9530418425718121),\n    ('modern', -0.381518863047654),\n    ('greek', 0.08646084259478069),\n    ('indian', -0.12250325031561674),\n    ('italian', -0.2622562486688334))),\n  (u'eggs',\n   u'green_chili_peppers',\n   -1.6028945187037134,\n   (('mexican', -2.140226227306594),\n    ('greek', -2.917160160719309),\n    ('indian', -3.7330676554610425),\n    ('thai', -2.711454709332274),\n    ('italian', -3.433975421056323))),\n  (u'eggs',\n   u'milk',\n   -0.8439525029476737,\n   (('mexican', -2.1169615191666837),\n    ('chinese', -1.8211441277724467),\n    ('modern', -0.2618686595363738),\n    ('greek', -1.5267899745130677),\n    ('indian', -2.946429517634663),\n    ('thai', -1.6621417397245608),\n    ('italian', -1.546885173647945))),\n  (u'eggs',\n   u'mozzarella',\n   -0.8896247546284689,\n   (('mexican', -0.35610692289543167),\n    ('chinese', -3.733237504233128),\n    ('modern', 0.6277977806983448),\n    ('greek', -1.8225227890475497),\n    ('thai', -3.4900613734481882),\n    ('italian', -1.499164354152995))),\n  (u'eggs',\n   u'onions',\n   -0.02883144836325647,\n   (('mexican', 0.1251628566460882),\n    ('chinese', -0.4249069665178287),\n    ('modern', 0.6852741586501331),\n    ('greek', 0.5487977714298303),\n    ('indian', -0.20039040067499858),\n    ('thai', -1.0847803041384265),\n    ('italian', 0.8953710659106239))),\n  (u'eggs',\n   u'purpose_flour',\n   -0.7198365610908067,\n   (('mexican', -1.511101138043959),\n    ('chinese', -1.1004041746768645),\n    ('modern', -0.8615359621623536),\n    ('greek', -1.1822696777801422),\n    ('indian', -1.4331368981955301),\n    ('thai', -2.817481368815968),\n    ('italian', -0.7702609413496223))),\n  (u'eggs',\n   u'salt',\n   -0.06841441684375775,\n   (('mexican', 0.1372453079397636),\n    ('chinese', -0.47025227819925813),\n    ('modern', -0.5915199219365462),\n    ('greek', -0.08575954031774986),\n    ('indian', -0.08644078360005225),\n    ('thai', -0.16190508304713483),\n    ('italian', -0.20306856343948687))),\n  (u'green_chili_peppers',\n   u'milk',\n   -1.7286257676793757,\n   (('mexican', -1.0357209398545248),\n    ('greek', -3.439497691268538),\n    ('indian', -2.5293339047099384),\n    ('thai', -4.665409184770122),\n    ('italian', -3.4692776863759476))),\n  (u'green_chili_peppers',\n   u'mozzarella',\n   -3.26868382496441,\n   (('mexican', -2.6363990296824813),\n    ('greek', -8.202183563992413),\n    ('thai', -6.751680793141938),\n    ('italian', -3.6612614079568075))),\n  (u'green_chili_peppers',\n   u'onions',\n   -1.0502381582062505,\n   (('mexican', -0.8016028127821898),\n    ('greek', -2.8121494431602625),\n    ('indian', -1.4019706087605333),\n    ('thai', -1.7822561476946444),\n    ('italian', -2.960342213737978))),\n  (u'green_chili_peppers',\n   u'purpose_flour',\n   -2.3501624016871077,\n   (('mexican', -2.4009024099807164),\n    ('greek', -4.086029818991082),\n    ('indian', -3.7510196266591325),\n    ('thai', -6.213765136853581),\n    ('italian', -4.606899087286998))),\n  (u'green_chili_peppers',\n   u'salt',\n   -0.2323192033092317,\n   (('mexican', -0.21634992472475595),\n    ('greek', -1.0716443910770221),\n    ('indian', -0.16992939131346238),\n    ('thai', 0.1692402868314227),\n    ('italian', -1.1712554989427841))),\n  (u'milk',\n   u'mozzarella',\n   -1.049114171496031,\n   (('mexican', -0.7242154289693419),\n    ('chinese', -5.776431714384508),\n    ('modern', -0.28513831351572544),\n    ('greek', -1.5422004791839987),\n    ('thai', -3.9174270269101124),\n    ('italian', -1.195411890928374))),\n  (u'milk',\n   u'onions',\n   0.30504805229237913,\n   (('mexican', 1.0190508091605555),\n    ('chinese', -0.28673075540276755),\n    ('modern', 0.624699281173332),\n    ('greek', 0.5348937790595577),\n    ('indian', 0.6856899609366172),\n    ('thai', 1.2072488436669808),\n    ('italian', 0.021961111960464866))),\n  (u'milk',\n   u'purpose_flour',\n   -0.908529298344173,\n   (('mexican', -2.6088902950231487),\n    ('chinese', -3.7358069134743994),\n    ('modern', 0.22421930682359026),\n    ('greek', -1.0745745118684455),\n    ('indian', -1.5561251109669194),\n    ('thai', -3.218289128883017),\n    ('italian', -0.9705684571466423))),\n  (u'milk',\n   u'salt',\n   -0.06618427243092379,\n   (('mexican', 0.043181594183815515),\n    ('chinese', -0.4865497329467578),\n    ('modern', -1.1801492280317378),\n    ('greek', -0.3053035163556972),\n    ('indian', 0.3606782221369442),\n    ('thai', 0.0039692321761578666),\n    ('italian', -0.36755180960268546))),\n  (u'mozzarella',\n   u'onions',\n   -0.36310260665336697,\n   (('mexican', 0.3040828803547891),\n    ('chinese', -1.9149770886590822),\n    ('modern', -0.6354891053758738),\n    ('greek', -0.6710682316811462),\n    ('thai', -1.727103254688534),\n    ('italian', 0.7358450961883642))),\n  (u'mozzarella',\n   u'purpose_flour',\n   -1.2323492443585138,\n   (('mexican', -1.5368746721836015),\n    ('chinese', -5.308458597619051),\n    ('modern', 0.2499345073282582),\n    ('greek', -1.0649310207749947),\n    ('thai', -6.352706442107342),\n    ('italian', 0.31022203318778263))),\n  (u'mozzarella',\n   u'salt',\n   -0.17775725901544207,\n   (('mexican', 0.2259085787283021),\n    ('chinese', -0.9003786715922326),\n    ('modern', 0.5702073382470997),\n    ('greek', -0.23490359236041444),\n    ('thai', -1.0414163527408467),\n    ('italian', -0.41960265474399666))),\n  (u'onions',\n   u'purpose_flour',\n   0.09635759364349025,\n   (('mexican', 0.3276703808934961),\n    ('chinese', 0.027706977481415027),\n    ('modern', 1.8377002494122372),\n    ('greek', 1.1546343128542507),\n    ('indian', 0.1942672443846565),\n    ('thai', -1.3684197827973053),\n    ('italian', 0.42604455532040214))),\n  (u'onions',\n   u'salt',\n   -0.0030235435701632,\n   (('mexican', -0.011519072510459168),\n    ('chinese', 0.044869031339888434),\n    ('modern', 0.30316485305465685),\n    ('greek', -0.26829447873067025),\n    ('indian', -0.14414197283944072),\n    ('thai', 0.1809342422956895),\n    ('italian', 0.41907970540680684))),\n  (u'purpose_flour',\n   u'salt',\n   -0.2646639397415956,\n   (('mexican', -0.771442774804417),\n    ('chinese', -0.7016166577917393),\n    ('modern', -0.7552641417911676),\n    ('greek', -0.45584488136308443),\n    ('indian', -0.4121169660725846),\n    ('thai', -0.6068844712548285),\n    ('italian', -0.7288371398062435)))],\n 'user_fam_cat': [0.4, 0.3, 0.2, 0.8, 0.6, 0.7, 0.2]}"
      ]
     },
     "execution_count": 11,
     "metadata": {},
     "output_type": "execute_result"
    }
   ],
   "source": [
    "user_suprise_estimates_dict['user_1']"
   ]
  },
  {
   "cell_type": "code",
   "execution_count": null,
   "metadata": {},
   "outputs": [],
   "source": []
  }
 ],
 "metadata": {
  "kernelspec": {
   "display_name": "Python 2",
   "language": "python",
   "name": "python2"
  },
  "language_info": {
   "codemirror_mode": {
    "name": "ipython",
    "version": 2
   },
   "file_extension": ".py",
   "mimetype": "text/x-python",
   "name": "python",
   "nbconvert_exporter": "python",
   "pygments_lexer": "ipython2",
   "version": "2.7.6"
  }
 },
 "nbformat": 4,
 "nbformat_minor": 0
}
